{
 "cells": [
  {
   "cell_type": "code",
   "execution_count": 23,
   "id": "ddea0bf0",
   "metadata": {},
   "outputs": [],
   "source": [
    "from sklearn.datasets import fetch_openml\n",
    "from sklearn.ensemble import RandomForestClassifier\n",
    "from sklearn.decomposition import PCA\n",
    "from sklearn.metrics import accuracy_score\n",
    "from sklearn.linear_model import SGDClassifier\n",
    "from sklearn.manifold import TSNE\n",
    "import matplotlib.pyplot as plt\n",
    "import matplotlib as mlt"
   ]
  },
  {
   "cell_type": "code",
   "execution_count": 5,
   "id": "aca81aba",
   "metadata": {},
   "outputs": [],
   "source": [
    "mnist = fetch_openml('mnist_784', as_frame=True)\n",
    "X, y = mnist.data, mnist.target"
   ]
  },
  {
   "cell_type": "code",
   "execution_count": 6,
   "id": "5b228d71",
   "metadata": {},
   "outputs": [],
   "source": [
    "X_train = X[60_000:]\n",
    "y_train = y[60_000:]\n",
    "\n",
    "X_test = X[:60_000]\n",
    "y_test = y[:60_000]"
   ]
  },
  {
   "cell_type": "markdown",
   "id": "d88cdb65",
   "metadata": {},
   "source": [
    "# Q9"
   ]
  },
  {
   "cell_type": "markdown",
   "id": "8f81644d",
   "metadata": {},
   "source": [
    "## Training Random Forest Classifier"
   ]
  },
  {
   "cell_type": "code",
   "execution_count": null,
   "id": "4813c4a5",
   "metadata": {},
   "outputs": [
    {
     "name": "stdout",
     "output_type": "stream",
     "text": [
      "CPU times: total: 7.61 s\n",
      "Wall time: 7.79 s\n"
     ]
    }
   ],
   "source": [
    "%%time\n",
    "\n",
    "# Training RFC\n",
    "rf_clf = RandomForestClassifier(n_estimators=100, random_state=42).fit(X_train, y_train)"
   ]
  },
  {
   "cell_type": "code",
   "execution_count": 11,
   "id": "4126db13",
   "metadata": {},
   "outputs": [
    {
     "name": "stdout",
     "output_type": "stream",
     "text": [
      "Accuracy = 94.505%\n"
     ]
    }
   ],
   "source": [
    "print(f\"Accuracy = {accuracy_score(y_test, rf_clf.predict(X_test)) * 100:.3f}%\")"
   ]
  },
  {
   "cell_type": "markdown",
   "id": "3b4d8659",
   "metadata": {},
   "source": [
    "### Applying PCA"
   ]
  },
  {
   "cell_type": "code",
   "execution_count": 12,
   "id": "3ca8f132",
   "metadata": {},
   "outputs": [],
   "source": [
    "pca = PCA(n_components= 0.95, random_state=42)\n",
    "X_reduced = pca.fit_transform(X_train)"
   ]
  },
  {
   "cell_type": "code",
   "execution_count": null,
   "id": "2b30c9c6",
   "metadata": {},
   "outputs": [
    {
     "name": "stdout",
     "output_type": "stream",
     "text": [
      "CPU times: total: 16.9 s\n",
      "Wall time: 17.1 s\n"
     ]
    }
   ],
   "source": [
    "%%time\n",
    "\n",
    "rf_clf_pca = RandomForestClassifier(n_estimators=100, random_state=42).fit(X_reduced, y_train)"
   ]
  },
  {
   "cell_type": "code",
   "execution_count": 14,
   "id": "aa20998c",
   "metadata": {},
   "outputs": [
    {
     "name": "stdout",
     "output_type": "stream",
     "text": [
      "Accuracy with PCA = 92.017%\n"
     ]
    }
   ],
   "source": [
    "X_test_reduced = pca.transform(X_test)\n",
    "print(f\"Accuracy with PCA = {accuracy_score(y_test, rf_clf_pca.predict(X_test_reduced)) * 100:.3f}%\")"
   ]
  },
  {
   "cell_type": "markdown",
   "id": "6dbedfbe",
   "metadata": {},
   "source": [
    "## Training SGDClassifier"
   ]
  },
  {
   "cell_type": "code",
   "execution_count": 19,
   "id": "139b0f35",
   "metadata": {},
   "outputs": [
    {
     "name": "stdout",
     "output_type": "stream",
     "text": [
      "CPU times: total: 13.4 s\n",
      "Wall time: 13.7 s\n"
     ]
    }
   ],
   "source": [
    "%%time\n",
    "sgdclf = SGDClassifier(random_state=42).fit(X_train, y_train)"
   ]
  },
  {
   "cell_type": "code",
   "execution_count": 20,
   "id": "c47dd9f6",
   "metadata": {},
   "outputs": [
    {
     "name": "stdout",
     "output_type": "stream",
     "text": [
      "CPU times: total: 6.73 s\n",
      "Wall time: 6.85 s\n"
     ]
    }
   ],
   "source": [
    "%%time\n",
    "sgdclf_pca = SGDClassifier(random_state=42).fit(X_reduced, y_train)"
   ]
  },
  {
   "cell_type": "code",
   "execution_count": 21,
   "id": "8eea5e9e",
   "metadata": {},
   "outputs": [
    {
     "name": "stdout",
     "output_type": "stream",
     "text": [
      "Accuracy with SGD = 86.598%\n",
      "Accuracy with SGD and PCA = 76.320%\n"
     ]
    }
   ],
   "source": [
    "print(f\"Accuracy with SGD = {accuracy_score(y_test, sgdclf.predict(X_test)) * 100:.3f}%\")\n",
    "print(f\"Accuracy with SGD and PCA = {accuracy_score(y_test, sgdclf_pca.predict(X_test_reduced)) * 100:.3f}%\")"
   ]
  },
  {
   "cell_type": "markdown",
   "id": "0ef8f9ce",
   "metadata": {},
   "source": [
    "# Q10"
   ]
  },
  {
   "cell_type": "code",
   "execution_count": null,
   "id": "e8ef6b7a",
   "metadata": {},
   "outputs": [],
   "source": []
  }
 ],
 "metadata": {
  "kernelspec": {
   "display_name": "base",
   "language": "python",
   "name": "python3"
  },
  "language_info": {
   "codemirror_mode": {
    "name": "ipython",
    "version": 3
   },
   "file_extension": ".py",
   "mimetype": "text/x-python",
   "name": "python",
   "nbconvert_exporter": "python",
   "pygments_lexer": "ipython3",
   "version": "3.12.7"
  }
 },
 "nbformat": 4,
 "nbformat_minor": 5
}
