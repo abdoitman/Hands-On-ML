{
 "cells": [
  {
   "cell_type": "code",
   "execution_count": 1,
   "id": "4766c516",
   "metadata": {},
   "outputs": [
    {
     "name": "stdout",
     "output_type": "stream",
     "text": [
      "WARNING:tensorflow:From c:\\Users\\abdoi\\AppData\\Local\\Programs\\Python\\Python311\\Lib\\site-packages\\keras\\src\\losses.py:2976: The name tf.losses.sparse_softmax_cross_entropy is deprecated. Please use tf.compat.v1.losses.sparse_softmax_cross_entropy instead.\n",
      "\n"
     ]
    }
   ],
   "source": [
    "import tensorflow as tf"
   ]
  },
  {
   "cell_type": "code",
   "execution_count": 4,
   "id": "d90fe698",
   "metadata": {},
   "outputs": [],
   "source": [
    "(x_train, y_train), (x_test, y_test) = tf.keras.datasets.mnist.load_data()\n",
    "\n",
    "x_train = x_train.astype('float32') / 255.0\n",
    "x_test = x_test.astype('float32') / 255.0"
   ]
  },
  {
   "cell_type": "code",
   "execution_count": 16,
   "id": "8e5ba126",
   "metadata": {},
   "outputs": [
    {
     "name": "stdout",
     "output_type": "stream",
     "text": [
      "Epoch 1/100\n",
      "1500/1500 [==============================] - 6s 4ms/step - loss: 0.2495 - accuracy: 0.9240 - val_loss: 0.1172 - val_accuracy: 0.9638\n",
      "Epoch 2/100\n",
      "1500/1500 [==============================] - 6s 4ms/step - loss: 0.0968 - accuracy: 0.9695 - val_loss: 0.1080 - val_accuracy: 0.9682\n",
      "Epoch 3/100\n",
      "1500/1500 [==============================] - 6s 4ms/step - loss: 0.0642 - accuracy: 0.9803 - val_loss: 0.0884 - val_accuracy: 0.9739\n",
      "Epoch 4/100\n",
      "1500/1500 [==============================] - 8s 6ms/step - loss: 0.0448 - accuracy: 0.9859 - val_loss: 0.0847 - val_accuracy: 0.9741\n",
      "Epoch 5/100\n",
      "1500/1500 [==============================] - 9s 6ms/step - loss: 0.0326 - accuracy: 0.9893 - val_loss: 0.0844 - val_accuracy: 0.9768\n",
      "Epoch 6/100\n",
      "1500/1500 [==============================] - 9s 6ms/step - loss: 0.0237 - accuracy: 0.9925 - val_loss: 0.0816 - val_accuracy: 0.9773\n",
      "Epoch 7/100\n",
      "1500/1500 [==============================] - 11s 8ms/step - loss: 0.0188 - accuracy: 0.9940 - val_loss: 0.0780 - val_accuracy: 0.9783\n",
      "Epoch 8/100\n",
      "1500/1500 [==============================] - 8s 6ms/step - loss: 0.0114 - accuracy: 0.9965 - val_loss: 0.0852 - val_accuracy: 0.9780\n",
      "Epoch 9/100\n",
      "1500/1500 [==============================] - 10s 7ms/step - loss: 0.0129 - accuracy: 0.9958 - val_loss: 0.0935 - val_accuracy: 0.9775\n",
      "Epoch 10/100\n",
      "1500/1500 [==============================] - 9s 6ms/step - loss: 0.0075 - accuracy: 0.9978 - val_loss: 0.0794 - val_accuracy: 0.9824\n",
      "Epoch 11/100\n",
      "1500/1500 [==============================] - 9s 6ms/step - loss: 0.0034 - accuracy: 0.9993 - val_loss: 0.0865 - val_accuracy: 0.9812\n",
      "Epoch 12/100\n",
      "1500/1500 [==============================] - 9s 6ms/step - loss: 0.0013 - accuracy: 0.9998 - val_loss: 0.0825 - val_accuracy: 0.9823\n",
      "Epoch 13/100\n",
      "1500/1500 [==============================] - 10s 7ms/step - loss: 5.5339e-04 - accuracy: 1.0000 - val_loss: 0.0837 - val_accuracy: 0.9827\n",
      "Epoch 14/100\n",
      "1500/1500 [==============================] - 7s 5ms/step - loss: 3.2962e-04 - accuracy: 1.0000 - val_loss: 0.0853 - val_accuracy: 0.9825\n",
      "Epoch 15/100\n",
      "1500/1500 [==============================] - 7s 4ms/step - loss: 2.8006e-04 - accuracy: 1.0000 - val_loss: 0.0865 - val_accuracy: 0.9827\n",
      "Epoch 16/100\n",
      "1500/1500 [==============================] - 7s 4ms/step - loss: 2.2967e-04 - accuracy: 1.0000 - val_loss: 0.0872 - val_accuracy: 0.9828\n",
      "Epoch 17/100\n",
      "1500/1500 [==============================] - 6s 4ms/step - loss: 2.0580e-04 - accuracy: 1.0000 - val_loss: 0.0877 - val_accuracy: 0.9828\n"
     ]
    }
   ],
   "source": [
    "model = tf.keras.models.Sequential([\n",
    "    tf.keras.layers.Flatten(input_shape=(28, 28)),\n",
    "    tf.keras.layers.Dense(300, activation='relu'),\n",
    "    tf.keras.layers.Dense(100, activation='relu'),\n",
    "    tf.keras.layers.Dense(10, activation='softmax')\n",
    "])\n",
    "\n",
    "optimizer = tf.keras.optimizers.SGD(learning_rate=0.2)\n",
    "\n",
    "model.compile(optimizer= optimizer,\n",
    "              loss='sparse_categorical_crossentropy',\n",
    "              metrics=['accuracy'])\n",
    "\n",
    "early_stopping = tf.keras.callbacks.EarlyStopping(\n",
    "    monitor='val_loss',\n",
    "    patience= 10,\n",
    "    restore_best_weights=True\n",
    ")\n",
    "checkpoint_cb = tf.keras.callbacks.ModelCheckpoint(\"my_mnist_model.keras\", save_best_only=True)\n",
    "\n",
    "history= model.fit(x_train, y_train, epochs=100, validation_split= 0.2, callbacks=[early_stopping, checkpoint_cb])"
   ]
  },
  {
   "cell_type": "code",
   "execution_count": 17,
   "id": "ee29966e",
   "metadata": {},
   "outputs": [
    {
     "name": "stdout",
     "output_type": "stream",
     "text": [
      "313/313 [==============================] - 1s 3ms/step - loss: 0.0738 - accuracy: 0.9795\n"
     ]
    },
    {
     "data": {
      "text/plain": [
       "[0.07383847236633301, 0.9794999957084656]"
      ]
     },
     "execution_count": 17,
     "metadata": {},
     "output_type": "execute_result"
    }
   ],
   "source": [
    "model = tf.keras.models.load_model(\"my_mnist_model.keras\")\n",
    "\n",
    "model.evaluate(x_test, y_test)"
   ]
  },
  {
   "cell_type": "markdown",
   "id": "329a25a9",
   "metadata": {},
   "source": [
    "Accuracy = 98%"
   ]
  }
 ],
 "metadata": {
  "kernelspec": {
   "display_name": "Python 3",
   "language": "python",
   "name": "python3"
  },
  "language_info": {
   "codemirror_mode": {
    "name": "ipython",
    "version": 3
   },
   "file_extension": ".py",
   "mimetype": "text/x-python",
   "name": "python",
   "nbconvert_exporter": "python",
   "pygments_lexer": "ipython3",
   "version": "3.11.2"
  }
 },
 "nbformat": 4,
 "nbformat_minor": 5
}
