{
 "cells": [
  {
   "cell_type": "markdown",
   "id": "c7deda53",
   "metadata": {},
   "source": [
    "# Q8"
   ]
  },
  {
   "cell_type": "code",
   "execution_count": 19,
   "id": "ec78aee6",
   "metadata": {},
   "outputs": [],
   "source": [
    "from sklearn.datasets import fetch_openml\n",
    "from sklearn.ensemble import RandomForestClassifier, ExtraTreesClassifier, VotingClassifier, StackingClassifier\n",
    "from sklearn.svm import SVC\n",
    "from sklearn.neighbors import KNeighborsClassifier\n",
    "from sklearn.model_selection import train_test_split\n",
    "from sklearn.metrics import accuracy_score\n",
    "from sklearn.model_selection import cross_val_score\n",
    "import pandas as pd"
   ]
  },
  {
   "cell_type": "code",
   "execution_count": 13,
   "metadata": {},
   "outputs": [],
   "source": [
    "mnist = fetch_openml('mnist_784', as_frame= True)\n",
    "X, y= mnist.data, mnist.target\n",
    "X_train, X_test, y_train, y_test = train_test_split(X, y, test_size= 2/7, random_state= 42)\n",
    "X_test, X_val, y_test, y_val = train_test_split(X_test, y_test, test_size= 0.5, random_state= 43)"
   ]
  },
  {
   "cell_type": "code",
   "execution_count": 14,
   "id": "3b20a38e",
   "metadata": {},
   "outputs": [
    {
     "name": "stdout",
     "output_type": "stream",
     "text": [
      "Random forrest accuracy = 94.59%\n",
      "ExtraTrees accuracy = 96.80%\n",
      "kNN accuracy = 96.74%\n"
     ]
    }
   ],
   "source": [
    "rf_clf = RandomForestClassifier(n_estimators= 100,\n",
    "                                max_depth= 10,\n",
    "                                random_state= 45).fit(X_train, y_train)\n",
    "yrf_val_hat = rf_clf.predict(X_val)\n",
    "print(f\"Random forrest accuracy = {accuracy_score(y_val, yrf_val_hat) * 100:.2f}%\")\n",
    "\n",
    "et_clf = ExtraTreesClassifier(n_estimators= 100,\n",
    "                              random_state= 46).fit(X_train, y_train)\n",
    "yet_val_hat = et_clf.predict(X_val)\n",
    "print(f\"ExtraTrees accuracy = {accuracy_score(y_val, yet_val_hat) * 100:.2f}%\")\n",
    "\n",
    "knn_clf = KNeighborsClassifier().fit(X_train, y_train)\n",
    "knn_vat_hat = knn_clf.predict(X_val) \n",
    "print(f\"kNN accuracy = {accuracy_score(y_val, knn_vat_hat) * 100:.2f}%\")"
   ]
  },
  {
   "cell_type": "code",
   "execution_count": 16,
   "id": "7196ddd5",
   "metadata": {},
   "outputs": [
    {
     "name": "stdout",
     "output_type": "stream",
     "text": [
      "Soft voting accuracy = 97.12%\n"
     ]
    }
   ],
   "source": [
    "ens = VotingClassifier(estimators= [('rf', rf_clf),\n",
    "                                    ('et', et_clf),\n",
    "                                    ('kNN', knn_clf)],\n",
    "                       voting= 'soft').fit(X_train, y_train)\n",
    "print(f\"Soft voting accuracy = {accuracy_score(y_val, ens.predict(X_val)) * 100:.2f}%\")"
   ]
  },
  {
   "cell_type": "markdown",
   "id": "3aa25520",
   "metadata": {},
   "source": [
    "# Q9"
   ]
  },
  {
   "cell_type": "code",
   "execution_count": 20,
   "id": "c260c9f1",
   "metadata": {},
   "outputs": [],
   "source": [
    "blender_data = pd.DataFrame({'rf': yrf_val_hat,\n",
    "                            'et': yet_val_hat,\n",
    "                            'kNN': knn_vat_hat,\n",
    "                            'y': y_val})\n",
    "\n",
    "blender_model = SVC(probability= True).fit(blender_data[['rf', 'et', 'kNN']], blender_data['y'])"
   ]
  },
  {
   "cell_type": "markdown",
   "id": "0d1fb872",
   "metadata": {},
   "source": [
    "## Testing"
   ]
  },
  {
   "cell_type": "code",
   "execution_count": 21,
   "id": "87727be3",
   "metadata": {},
   "outputs": [
    {
     "name": "stdout",
     "output_type": "stream",
     "text": [
      "Random forrest accuracy = 94.30%\n",
      "ExtraTrees accuracy = 96.85%\n",
      "kNN accuracy = 96.92%\n"
     ]
    }
   ],
   "source": [
    "yrf_test = rf_clf.predict(X_test)\n",
    "print(f\"Random forrest accuracy = {accuracy_score(y_test, yrf_test) * 100:.2f}%\")\n",
    "\n",
    "yet_test = et_clf.predict(X_test)\n",
    "print(f\"ExtraTrees accuracy = {accuracy_score(y_test, yet_test) * 100:.2f}%\")\n",
    "\n",
    "knn_test = knn_clf.predict(X_test)\n",
    "print(f\"kNN accuracy = {accuracy_score(y_test, knn_test) * 100:.2f}%\")"
   ]
  },
  {
   "cell_type": "code",
   "execution_count": 22,
   "id": "c6a75e9c",
   "metadata": {},
   "outputs": [
    {
     "name": "stdout",
     "output_type": "stream",
     "text": [
      "Blender accuracy = 96.04%\n"
     ]
    }
   ],
   "source": [
    "blender_test = pd.DataFrame({'rf': yrf_test,\n",
    "                            'et': yet_test,\n",
    "                            'kNN': knn_test})\n",
    "\n",
    "blender_test_yhat = blender_model.predict(blender_test[['rf', 'et', 'kNN']])\n",
    "print(f\"Blender accuracy = {accuracy_score(y_test, blender_test_yhat) * 100:.2f}%\")"
   ]
  },
  {
   "cell_type": "code",
   "execution_count": 23,
   "id": "1cf5077b",
   "metadata": {},
   "outputs": [
    {
     "name": "stdout",
     "output_type": "stream",
     "text": [
      "Stacking accuracy = 97.93%\n"
     ]
    }
   ],
   "source": [
    "stk_clf = StackingClassifier(estimators= [('rf', rf_clf),\n",
    "                                        ('et', et_clf),\n",
    "                                        ('kNN', knn_clf)],\n",
    "                             final_estimator= SVC(probability= True)).fit(X_train, y_train)\n",
    "\n",
    "stk_test_yhat = stk_clf.predict(X_test)\n",
    "print(f\"Stacking accuracy = {accuracy_score(y_test, stk_test_yhat) * 100:.2f}%\")"
   ]
  }
 ],
 "metadata": {
  "kernelspec": {
   "display_name": "Python 3 (ipykernel)",
   "language": "python",
   "name": "python3"
  },
  "language_info": {
   "codemirror_mode": {
    "name": "ipython",
    "version": 3
   },
   "file_extension": ".py",
   "mimetype": "text/x-python",
   "name": "python",
   "nbconvert_exporter": "python",
   "pygments_lexer": "ipython3",
   "version": "3.11.2"
  }
 },
 "nbformat": 4,
 "nbformat_minor": 5
}
