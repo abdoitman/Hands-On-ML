{
 "cells": [
  {
   "cell_type": "code",
   "execution_count": 1,
   "id": "8d22971f",
   "metadata": {},
   "outputs": [
    {
     "name": "stdout",
     "output_type": "stream",
     "text": [
      "WARNING:tensorflow:From c:\\Users\\abdoi\\AppData\\Local\\Programs\\Python\\Python311\\Lib\\site-packages\\keras\\src\\losses.py:2976: The name tf.losses.sparse_softmax_cross_entropy is deprecated. Please use tf.compat.v1.losses.sparse_softmax_cross_entropy instead.\n",
      "\n"
     ]
    }
   ],
   "source": [
    "import pandas as pd\n",
    "import numpy as np\n",
    "import tensorflow as tf"
   ]
  },
  {
   "cell_type": "code",
   "execution_count": 2,
   "id": "4a0c8619",
   "metadata": {},
   "outputs": [
    {
     "name": "stdout",
     "output_type": "stream",
     "text": [
      "Downloading data from https://www.cs.toronto.edu/~kriz/cifar-10-python.tar.gz\n",
      "170498071/170498071 [==============================] - 154s 1us/step\n"
     ]
    }
   ],
   "source": [
    "data = tf.keras.datasets.cifar10.load_data()\n",
    "(x_train, y_train), (x_test, y_test) = data"
   ]
  },
  {
   "cell_type": "code",
   "execution_count": 9,
   "id": "d82230e9",
   "metadata": {},
   "outputs": [],
   "source": [
    "from functools import partial\n",
    "\n",
    "dense = partial(tf.keras.layers.Dense, activation='swish', kernel_initializer='he_normal')\n",
    "\n",
    "model = tf.keras.Sequential()\n",
    "model.add(tf.keras.layers.Flatten(input_shape=(32, 32, 3)))\n",
    "for _ in range(20):\n",
    "    model.add(dense(100))\n",
    "model.add(dense(10, activation='softmax'))\n",
    "\n",
    "tb_callback = tf.keras.callbacks.TensorBoard(\n",
    "    log_dir='logs')\n",
    "\n",
    "model.compile(\n",
    "    optimizer=tf.keras.optimizers.Nadam(),\n",
    "    loss='sparse_categorical_crossentropy',\n",
    "    metrics=['accuracy']\n",
    ")"
   ]
  },
  {
   "cell_type": "code",
   "execution_count": 11,
   "id": "6f32c7a3",
   "metadata": {},
   "outputs": [
    {
     "name": "stdout",
     "output_type": "stream",
     "text": [
      "Epoch 1/10\n",
      "391/391 [==============================] - 10s 19ms/step - loss: 1.6928 - accuracy: 0.3897 - val_loss: 1.6656 - val_accuracy: 0.3950\n",
      "Epoch 2/10\n",
      "391/391 [==============================] - 9s 24ms/step - loss: 1.6697 - accuracy: 0.3990 - val_loss: 1.7363 - val_accuracy: 0.3850\n",
      "Epoch 3/10\n",
      "391/391 [==============================] - 8s 21ms/step - loss: 1.6496 - accuracy: 0.4080 - val_loss: 1.6591 - val_accuracy: 0.4027\n",
      "Epoch 4/10\n",
      "391/391 [==============================] - 8s 21ms/step - loss: 1.6322 - accuracy: 0.4126 - val_loss: 1.6241 - val_accuracy: 0.4113\n",
      "Epoch 5/10\n",
      "391/391 [==============================] - 8s 20ms/step - loss: 1.6221 - accuracy: 0.4174 - val_loss: 1.7050 - val_accuracy: 0.3837\n",
      "Epoch 6/10\n",
      "391/391 [==============================] - 9s 23ms/step - loss: 1.6032 - accuracy: 0.4251 - val_loss: 1.6321 - val_accuracy: 0.4192\n",
      "Epoch 7/10\n",
      "391/391 [==============================] - 10s 26ms/step - loss: 1.5938 - accuracy: 0.4259 - val_loss: 1.6723 - val_accuracy: 0.4077\n",
      "Epoch 8/10\n",
      "391/391 [==============================] - 9s 22ms/step - loss: 1.5785 - accuracy: 0.4341 - val_loss: 1.5919 - val_accuracy: 0.4240\n",
      "Epoch 9/10\n",
      "391/391 [==============================] - 9s 22ms/step - loss: 1.5663 - accuracy: 0.4389 - val_loss: 1.6213 - val_accuracy: 0.4143\n",
      "Epoch 10/10\n",
      "391/391 [==============================] - 10s 26ms/step - loss: 1.5617 - accuracy: 0.4409 - val_loss: 1.5831 - val_accuracy: 0.4360\n"
     ]
    },
    {
     "data": {
      "text/plain": [
       "<keras.src.callbacks.History at 0x1f11e818b90>"
      ]
     },
     "execution_count": 11,
     "metadata": {},
     "output_type": "execute_result"
    }
   ],
   "source": [
    "model.fit(\n",
    "    x_train, y_train,\n",
    "    epochs=10,\n",
    "    batch_size=128,\n",
    "    validation_data=(x_test, y_test),\n",
    "    callbacks= [tb_callback]\n",
    ")"
   ]
  },
  {
   "cell_type": "code",
   "execution_count": 12,
   "id": "45cb2d0e",
   "metadata": {},
   "outputs": [
    {
     "name": "stdout",
     "output_type": "stream",
     "text": [
      "Epoch 1/10\n",
      "391/391 [==============================] - 27s 25ms/step - loss: 1.8583 - accuracy: 0.3175 - val_loss: 2.0435 - val_accuracy: 0.2668\n",
      "Epoch 2/10\n",
      "391/391 [==============================] - 10s 25ms/step - loss: 1.5989 - accuracy: 0.4287 - val_loss: 1.7479 - val_accuracy: 0.3756\n",
      "Epoch 3/10\n",
      "391/391 [==============================] - 11s 29ms/step - loss: 1.5016 - accuracy: 0.4652 - val_loss: 1.6647 - val_accuracy: 0.4095\n",
      "Epoch 4/10\n",
      "391/391 [==============================] - 11s 28ms/step - loss: 1.4347 - accuracy: 0.4899 - val_loss: 1.7250 - val_accuracy: 0.3882\n",
      "Epoch 5/10\n",
      "391/391 [==============================] - 9s 24ms/step - loss: 1.3824 - accuracy: 0.5094 - val_loss: 1.5947 - val_accuracy: 0.4522\n",
      "Epoch 6/10\n",
      "391/391 [==============================] - 8s 21ms/step - loss: 1.3329 - accuracy: 0.5255 - val_loss: 1.5493 - val_accuracy: 0.4597\n",
      "Epoch 7/10\n",
      "391/391 [==============================] - 8s 20ms/step - loss: 1.2929 - accuracy: 0.5400 - val_loss: 1.6343 - val_accuracy: 0.4410\n",
      "Epoch 8/10\n",
      "391/391 [==============================] - 8s 21ms/step - loss: 1.2588 - accuracy: 0.5548 - val_loss: 1.5944 - val_accuracy: 0.4519\n",
      "Epoch 9/10\n",
      "391/391 [==============================] - 10s 25ms/step - loss: 1.2242 - accuracy: 0.5699 - val_loss: 1.5992 - val_accuracy: 0.4490\n",
      "Epoch 10/10\n",
      "391/391 [==============================] - 10s 26ms/step - loss: 1.1931 - accuracy: 0.5768 - val_loss: 1.6629 - val_accuracy: 0.4551\n"
     ]
    },
    {
     "data": {
      "text/plain": [
       "<keras.src.callbacks.History at 0x1f124510b90>"
      ]
     },
     "execution_count": 12,
     "metadata": {},
     "output_type": "execute_result"
    }
   ],
   "source": [
    "model = tf.keras.Sequential()\n",
    "model.add(tf.keras.layers.Flatten(input_shape=(32, 32, 3)))\n",
    "for _ in range(5):\n",
    "    model.add(dense(100))\n",
    "    model.add(tf.keras.layers.BatchNormalization())\n",
    "for _ in range(15):\n",
    "    model.add(dense(100))\n",
    "model.add(dense(10, activation='softmax'))\n",
    "\n",
    "tb_callback = tf.keras.callbacks.TensorBoard(\n",
    "    log_dir='logs')\n",
    "\n",
    "model.compile(\n",
    "    optimizer=tf.keras.optimizers.Nadam(),\n",
    "    loss='sparse_categorical_crossentropy',\n",
    "    metrics=['accuracy']\n",
    ")\n",
    "\n",
    "model.fit(\n",
    "    x_train, y_train,\n",
    "    epochs=10,\n",
    "    batch_size=128,\n",
    "    validation_data=(x_test, y_test),\n",
    "    callbacks= [tb_callback]\n",
    ")"
   ]
  }
 ],
 "metadata": {
  "kernelspec": {
   "display_name": "Python 3",
   "language": "python",
   "name": "python3"
  },
  "language_info": {
   "codemirror_mode": {
    "name": "ipython",
    "version": 3
   },
   "file_extension": ".py",
   "mimetype": "text/x-python",
   "name": "python",
   "nbconvert_exporter": "python",
   "pygments_lexer": "ipython3",
   "version": "3.11.2"
  }
 },
 "nbformat": 4,
 "nbformat_minor": 5
}
