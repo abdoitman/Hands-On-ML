{
 "cells": [
  {
   "cell_type": "markdown",
   "id": "1d4cef62",
   "metadata": {},
   "source": [
    "# Q7"
   ]
  },
  {
   "cell_type": "code",
   "execution_count": 6,
   "id": "f787253c",
   "metadata": {},
   "outputs": [],
   "source": [
    "import numpy as np\n",
    "from scipy import stats as st\n",
    "from sklearn.datasets import make_moons\n",
    "from sklearn.model_selection import train_test_split\n",
    "from sklearn.tree import DecisionTreeClassifier\n",
    "from sklearn.model_selection import cross_val_score, GridSearchCV, ShuffleSplit\n",
    "from sklearn.metrics import accuracy_score"
   ]
  },
  {
   "cell_type": "code",
   "execution_count": 2,
   "id": "472f32cc",
   "metadata": {},
   "outputs": [
    {
     "name": "stderr",
     "output_type": "stream",
     "text": [
      "c:\\Users\\abdoi\\anaconda3\\Lib\\site-packages\\numpy\\ma\\core.py:2820: RuntimeWarning: invalid value encountered in cast\n",
      "  _data = np.array(data, dtype=dtype, copy=copy,\n"
     ]
    }
   ],
   "source": [
    "X, y = make_moons(n_samples= 10000, noise= 0.4)\n",
    "\n",
    "X_train, X_test, y_train, y_test = train_test_split(X, y, test_size= 0.2, random_state= 42)\n",
    "\n",
    "params = {\n",
    "    'max_depth' : list(range(1, 8)),\n",
    "    'max_leaf_nodes' : [None] + list(range(2, 50)),\n",
    "    'min_samples_split' : [2, 3, 4, 5]\n",
    "}\n",
    "\n",
    "grid = GridSearchCV(\n",
    "    DecisionTreeClassifier(random_state= 40),\n",
    "    param_grid= params,\n",
    "    cv= 4\n",
    ").fit(X_train, y_train)"
   ]
  },
  {
   "cell_type": "code",
   "execution_count": 3,
   "id": "c90324a1",
   "metadata": {},
   "outputs": [
    {
     "data": {
      "text/plain": [
       "85.73"
      ]
     },
     "execution_count": 3,
     "metadata": {},
     "output_type": "execute_result"
    }
   ],
   "source": [
    "model = grid.best_estimator_\n",
    "\n",
    "cross_val_score(model, X, y, cv= 5, scoring= 'accuracy').mean() * 100"
   ]
  },
  {
   "cell_type": "markdown",
   "id": "5e1c050b",
   "metadata": {},
   "source": [
    "# Q8"
   ]
  },
  {
   "cell_type": "code",
   "execution_count": 4,
   "id": "79306509",
   "metadata": {},
   "outputs": [],
   "source": [
    "splits = ShuffleSplit(n_splits= 1000, test_size= None, random_state= 43)\n",
    "results = []\n",
    "\n",
    "for train_idx, _ in splits.split(X):\n",
    "    X_train= X[train_idx]\n",
    "    y_train= y[train_idx]\n",
    "\n",
    "    model.fit(X_train, y_train)\n",
    "    results.append(model.predict(X_test))"
   ]
  },
  {
   "cell_type": "code",
   "execution_count": 15,
   "id": "6e4ab1b0",
   "metadata": {},
   "outputs": [
    {
     "name": "stdout",
     "output_type": "stream",
     "text": [
      "Accuracy : 86.80\n"
     ]
    }
   ],
   "source": [
    "y_hat = st.mode(np.array(results))[0]\n",
    "\n",
    "print(f\"Accuracy : {accuracy_score(y_test, y_hat) * 100:.2f}\")"
   ]
  }
 ],
 "metadata": {
  "kernelspec": {
   "display_name": "base",
   "language": "python",
   "name": "python3"
  },
  "language_info": {
   "codemirror_mode": {
    "name": "ipython",
    "version": 3
   },
   "file_extension": ".py",
   "mimetype": "text/x-python",
   "name": "python",
   "nbconvert_exporter": "python",
   "pygments_lexer": "ipython3",
   "version": "3.12.7"
  }
 },
 "nbformat": 4,
 "nbformat_minor": 5
}
